{
 "cells": [
  {
   "cell_type": "code",
   "execution_count": 2,
   "id": "75e9ba72",
   "metadata": {},
   "outputs": [
    {
     "name": "stdout",
     "output_type": "stream",
     "text": [
      "Decision Tree Test RMSE:  31.018574460127297\n",
      "Random Forest Test RMSE:  22.82450903865859\n",
      "SVM Test RMSE:  32.3804844983029\n"
     ]
    }
   ],
   "source": [
    "import pandas as pd\n",
    "from sklearn.model_selection import train_test_split\n",
    "from sklearn.tree import DecisionTreeRegressor\n",
    "from sklearn.ensemble import RandomForestRegressor\n",
    "from sklearn.svm import SVR\n",
    "from sklearn.metrics import mean_squared_error\n",
    "from sklearn.pipeline import Pipeline\n",
    "from sklearn.preprocessing import StandardScaler\n",
    "import numpy as np\n",
    "\n",
    "def sort_dataset(dataset_df):\n",
    "   \n",
    "    sorted_df = dataset_df.sort_values(by='year', ascending=True)\n",
    "    return sorted_df\n",
    "\n",
    "def split_dataset(dataset_df):\n",
    "   \n",
    "    dataset_df['salary'] *= 0.001\n",
    "    train_data = dataset_df.iloc[:1718]\n",
    "    test_data = dataset_df.iloc[1718:]\n",
    "\n",
    "    X_train = extract_numerical_cols(train_data)\n",
    "    Y_train = train_data['salary']\n",
    "\n",
    "    X_test = extract_numerical_cols(test_data)\n",
    "    Y_test = test_data['salary']\n",
    "\n",
    "    return X_train, X_test, Y_train, Y_test\n",
    "\n",
    "def extract_numerical_cols(dataset_df):\n",
    "   \n",
    "    numerical_columns = ['age', 'G', 'PA', 'AB', 'R', 'H', '2B', '3B', 'HR', 'RBI', 'SB', 'CS', 'BB', 'HBP', 'SO', 'GDP', 'fly', 'war']\n",
    "    numerical_df = dataset_df[numerical_columns]\n",
    "    return numerical_df\n",
    "\n",
    "def train_predict_decision_tree(X_train, Y_train, X_test):\n",
    "    \n",
    "    dt_model = DecisionTreeRegressor(random_state=42)\n",
    "    dt_model.fit(X_train, Y_train)\n",
    "    dt_predictions = dt_model.predict(X_test)\n",
    "    return dt_predictions\n",
    "\n",
    "def train_predict_random_forest(X_train, Y_train, X_test):\n",
    "   \n",
    "    rf_model = RandomForestRegressor(random_state=42)\n",
    "    rf_model.fit(X_train, Y_train)\n",
    "    rf_predictions = rf_model.predict(X_test)\n",
    "    return rf_predictions\n",
    "\n",
    "def train_predict_svm(X_train, Y_train, X_test):\n",
    "   \n",
    "    svm_model = Pipeline([('scaler', StandardScaler()),('svm', SVR())])\n",
    "    svm_model.fit(X_train, Y_train)\n",
    "    svm_predictions = svm_model.predict(X_test)\n",
    "    return svm_predictions\n",
    "\n",
    "def calculate_RMSE(labels, predictions):\n",
    "  \n",
    "    mse = mean_squared_error(labels, predictions)\n",
    "    rmse = np.sqrt(mse)\n",
    "    return rmse\n",
    "\n",
    "if __name__ == '__main__':\n",
    "    data_df = pd.read_csv('2019_kbo_for_kaggle_v2.csv')\n",
    "\n",
    "    sorted_df = sort_dataset(data_df)\n",
    " \n",
    "    X_train, X_test, Y_train, Y_test = split_dataset(sorted_df)\n",
    "    dt_predictions = train_predict_decision_tree(X_train, Y_train, X_test)\n",
    "    rf_predictions = train_predict_random_forest(X_train, Y_train, X_test)\n",
    "    svm_predictions = train_predict_svm(X_train, Y_train, X_test)\n",
    "\n",
    "    print(\"Decision Tree Test RMSE: \", calculate_RMSE(Y_test, dt_predictions))\n",
    "    print(\"Random Forest Test RMSE: \", calculate_RMSE(Y_test, rf_predictions))\n",
    "    print(\"SVM Test RMSE: \", calculate_RMSE(Y_test, svm_predictions))"
   ]
  },
  {
   "cell_type": "code",
   "execution_count": null,
   "id": "19e69363",
   "metadata": {},
   "outputs": [],
   "source": []
  }
 ],
 "metadata": {
  "kernelspec": {
   "display_name": "Python 3 (ipykernel)",
   "language": "python",
   "name": "python3"
  },
  "language_info": {
   "codemirror_mode": {
    "name": "ipython",
    "version": 3
   },
   "file_extension": ".py",
   "mimetype": "text/x-python",
   "name": "python",
   "nbconvert_exporter": "python",
   "pygments_lexer": "ipython3",
   "version": "3.11.5"
  }
 },
 "nbformat": 4,
 "nbformat_minor": 5
}
